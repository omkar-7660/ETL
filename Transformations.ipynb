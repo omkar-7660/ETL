{
 "cells": [
  {
   "cell_type": "code",
   "execution_count": null,
   "id": "436e8277-ca21-4f28-bd21-943abfc082f4",
   "metadata": {},
   "outputs": [],
   "source": [
    "from pyspark.sql import SparkSession\n",
    "from pyspark.sql.functions import * \n"
   ]
  },
  {
   "cell_type": "code",
   "execution_count": null,
   "id": "0770fcd4-4ab6-475d-9368-b4b592f9e8d1",
   "metadata": {},
   "outputs": [],
   "source": [
    "spark=SparkSession.builder\\\n",
    ".appName('ETL')\\\n",
    ".config(\"spark.jars\",r\"C:\\Users\\OMKHOT\\OneDrive - Capgemini\\Desktop\\ETL_COVID_19\\postgresql-42.7.2.jar\")\\\n",
    ".config(\"spark.sql.legacy.timeParserPolicy\",\"LEGACY\")\\\n",
    ".getOrCreate()"
   ]
  },
  {
   "cell_type": "code",
   "execution_count": null,
   "id": "91a8911d-aa04-48e0-9856-ea9379e428d5",
   "metadata": {},
   "outputs": [],
   "source": [
    "spark.sparkContext._jsc.sc().listJars()"
   ]
  },
  {
   "cell_type": "code",
   "execution_count": null,
   "id": "e8e966eb-fbf1-443e-ae23-049dd1d39082",
   "metadata": {},
   "outputs": [],
   "source": [
    "covid_data=spark.read.option('multiline','true').json('extracted_data/covid_data_*.json')"
   ]
  },
  {
   "cell_type": "code",
   "execution_count": null,
   "id": "a9f491b1-c26d-4ee1-856f-2f831c1ff67c",
   "metadata": {},
   "outputs": [],
   "source": [
    "covid_data=covid_data.select(\n",
    "    col('country'),\n",
    "col('cases'),\n",
    "col('todayCases'),\n",
    "col('deaths'),\n",
    "col('todayDeaths'),\n",
    "col('recovered'),\n",
    "col('active'),\n",
    "col('population'),\n",
    "col('continent'),\n",
    "from_unixtime(col('updated')/1000).alias('last_updated')    \n",
    ")\n",
    "\n",
    "#from_unixtime(input's in seconds) updated column has data in miliseconds (/1000 will convert it into seconds).\n",
    "#"
   ]
  },
  {
   "cell_type": "code",
   "execution_count": null,
   "id": "0ba110b6-84a3-4425-a5f0-21fe6e568b26",
   "metadata": {},
   "outputs": [],
   "source": [
    "covid_data=covid_data.withColumn('last_updated',to_timestamp(col('last_updated'),'yyyy-MM-dd HH:mm:ss'))\\\n",
    ".withColumn('country', col('country').cast('string'))\\\n",
    ".withColumn('cases', col('cases').cast('int'))\\\n",
    ".withColumn('todayCases', col('todayCases').cast('int'))\\\n",
    ".withColumn('deaths', col('deaths').cast('int'))\\\n",
    ".withColumn('todayDeaths', col('todayDeaths').cast('int'))\\\n",
    ".withColumn('recovered', col('recovered').cast('int'))\\\n",
    ".withColumn('active', col('active').cast('int'))\\\n",
    ".withColumn('population', col('population').cast('int'))\\\n",
    ".withColumn('continent', col('continent').cast('string'))\\\n",
    ".withColumn('last_updated', col('last_updated').cast('timestamp')).drop('new_last_updated')"
   ]
  },
  {
   "cell_type": "code",
   "execution_count": null,
   "id": "036f3bd2-6f45-40c1-a351-f618144b61e0",
   "metadata": {},
   "outputs": [],
   "source": [
    "#will put this data into the postgre \n",
    "db_properties={\n",
    "'user':'postgres',\n",
    "'password':'postgres',\n",
    "'driver':'org.postgresql.Driver'    \n",
    "}"
   ]
  },
  {
   "cell_type": "code",
   "execution_count": null,
   "id": "21d6d724-c68a-4878-a3ad-e4bec9654d2e",
   "metadata": {},
   "outputs": [],
   "source": [
    "covid_data.write.jdbc(\n",
    "        url=\"jdbc:postgresql://localhost:5432/ETL\",\n",
    "        table=\"covid\",\n",
    "        mode=\"append\",\n",
    "        properties=db_properties\n",
    ")"
   ]
  },
  {
   "cell_type": "code",
   "execution_count": null,
   "id": "069564ae-2011-47b3-a8d0-25ba39f2dc89",
   "metadata": {},
   "outputs": [],
   "source": [
    "spark.stop()"
   ]
  }
 ],
 "metadata": {
  "kernelspec": {
   "display_name": "Python 3 (ipykernel)",
   "language": "python",
   "name": "python3"
  },
  "language_info": {
   "codemirror_mode": {
    "name": "ipython",
    "version": 3
   },
   "file_extension": ".py",
   "mimetype": "text/x-python",
   "name": "python",
   "nbconvert_exporter": "python",
   "pygments_lexer": "ipython3",
   "version": "3.11.5"
  }
 },
 "nbformat": 4,
 "nbformat_minor": 5
}
